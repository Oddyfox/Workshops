{
 "cells": [
  {
   "cell_type": "markdown",
   "metadata": {},
   "source": [
    "# Exercise 1\n",
    "Compute the probability of the event 'A period occurs after a three-letter word and this period indicates an abbreviation (not an end-of-sentence marker),' assuming the following probabilities.\n",
    "\n",
    "P\n",
    "(\n",
    "is-abbreviation\n",
    "|\n",
    "three-letter-word\n",
    ")\n",
    "=\n",
    "0.8\n",
    "\n",
    "P\n",
    "(\n",
    "three-letter-word\n",
    ")\n",
    "=\n",
    "0.0003"
   ]
  },
  {
   "cell_type": "code",
   "execution_count": 2,
   "metadata": {},
   "outputs": [
    {
     "name": "stdout",
     "output_type": "stream",
     "text": [
      "0.00023999999999999998\n"
     ]
    }
   ],
   "source": [
    "P_A = 0.0003 # Probability of three letter word\n",
    "P_B = None # Probability of being an abbreviation, None is a placeholder while I think\n",
    "\n",
    "P_B_given_A = 0.8 # Probability of B (is abbreviation) given A (three letter word)\n",
    "\n",
    "## This is probably more complicated than it needs to be\n",
    "# It's simply P_A is the independent chance of being a three letter word, and given P_A, P_B_given_A is the chance it's an\n",
    "# abbreviation, which itself is independent, so:\n",
    "\n",
    "P = P_A * P_B_given_A # Probability of a word being a three letter abbreviation\n",
    "print( P )"
   ]
  },
  {
   "cell_type": "markdown",
   "metadata": {},
   "source": [
    "# Exercise 2\n",
    "What is the marginal entropy \n",
    "H\n",
    "(\n",
    "X\n",
    ")\n",
    " of a variable \n",
    "X\n",
    ", and what is the mutual information of \n",
    "X\n",
    " with itself?"
   ]
  },
  {
   "cell_type": "code",
   "execution_count": null,
   "metadata": {},
   "outputs": [],
   "source": []
  },
  {
   "cell_type": "markdown",
   "metadata": {},
   "source": [
    "Mutual information of $X$ with itself"
   ]
  },
  {
   "cell_type": "markdown",
   "metadata": {},
   "source": [
    "Mutual information: $H(X,Y) = H(X) + H(Y|X) = H(Y) + H(X|Y) $\n",
    "\n",
    "If we want $X$ with itself, that means $Y$ -> $X$,\n",
    "\n",
    "$H(X,X) = H(X) + H(X|X) = H(X) + H(X|X) $\n",
    "\n",
    "Where $H(X) =$ -$\\sum_{i = 1}^{N} p(i)\\log_2( p(i) )$"
   ]
  },
  {
   "cell_type": "markdown",
   "metadata": {},
   "source": [
    "I think the answer here is that $H(X,X) = 1$ # Don't give a number!\n",
    "\n",
    "Looking at the venn diagrams of the relationship for $H(X,Y)$, if $Y$ -> $X$, they completely overlap"
   ]
  },
  {
   "cell_type": "code",
   "execution_count": null,
   "metadata": {},
   "outputs": [],
   "source": []
  }
 ],
 "metadata": {
  "kernelspec": {
   "display_name": "Python 3",
   "language": "python",
   "name": "python3"
  },
  "language_info": {
   "codemirror_mode": {
    "name": "ipython",
    "version": 3
   },
   "file_extension": ".py",
   "mimetype": "text/x-python",
   "name": "python",
   "nbconvert_exporter": "python",
   "pygments_lexer": "ipython3",
   "version": "3.7.4"
  }
 },
 "nbformat": 4,
 "nbformat_minor": 2
}
