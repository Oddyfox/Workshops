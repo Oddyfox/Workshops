{
 "cells": [
  {
   "cell_type": "code",
   "execution_count": 1,
   "metadata": {},
   "outputs": [
    {
     "name": "stdout",
     "output_type": "stream",
     "text": [
      "#rows=298 #columns=10\n",
      "age            float64\n",
      "menopause       object\n",
      "tumor-size     float64\n",
      "inv-nodes      float64\n",
      "node-caps       object\n",
      "deg-malig        int64\n",
      "breast          object\n",
      "breast-quad     object\n",
      "irradiat        object\n",
      "recurrence      object\n",
      "dtype: object\n"
     ]
    }
   ],
   "source": [
    "# Standard libraries we always include\n",
    "%matplotlib inline\n",
    "import matplotlib.pyplot as plt\n",
    "import numpy as np\n",
    "import pandas as pd\n",
    "import seaborn as sns; sns.set(style=\"ticks\", color_codes=True)\n",
    "\n",
    "# Locate and load the data file\n",
    "df = pd.read_csv('breast_cancer_raw.csv')\n",
    "print(f'#rows={len(df)} #columns={len(df.columns)}')\n",
    "\n",
    "# Print some info and plots to have a feeling about the dataset\n",
    "print(df.dtypes)"
   ]
  },
  {
   "cell_type": "code",
   "execution_count": 3,
   "metadata": {},
   "outputs": [
    {
     "name": "stdout",
     "output_type": "stream",
     "text": [
      "#total= 293\n"
     ]
    }
   ],
   "source": [
    "# Check for duplicates, this adds a new column to the dataset\n",
    "df[\"is_duplicate\"]= df.duplicated()\n",
    "\n",
    "# Drop the duplicate rows using index - best way to drop in pandas\n",
    "index_to_drop = df[df['is_duplicate']==True].index\n",
    "df.drop(index_to_drop, inplace=True)\n",
    "\n",
    "# Remove the duplicate marker column\n",
    "df.drop(columns='is_duplicate', inplace=True)\n",
    "print(f'#total= {len(df)}')"
   ]
  },
  {
   "cell_type": "code",
   "execution_count": 4,
   "metadata": {},
   "outputs": [],
   "source": [
    "# Impute\n",
    "df['age'] = df['age'].fillna(df['age'].mean())\n",
    "df['tumor-size'] = df['tumor-size'].fillna(df['tumor-size'].mean())\n",
    "df['inv-nodes'] = df['inv-nodes'].fillna(df['inv-nodes'].mean())"
   ]
  },
  {
   "cell_type": "code",
   "execution_count": 5,
   "metadata": {},
   "outputs": [],
   "source": [
    "# Replace '?' with mode - value/level with highest frequency in the feature\n",
    "df['node-caps'] = df['node-caps'].replace({'?':'no'})\n",
    "df['breast-quad'] = df['breast-quad'].replace({'?':'left_low'})"
   ]
  },
  {
   "cell_type": "code",
   "execution_count": 6,
   "metadata": {},
   "outputs": [
    {
     "data": {
      "text/html": [
       "<div>\n",
       "<style scoped>\n",
       "    .dataframe tbody tr th:only-of-type {\n",
       "        vertical-align: middle;\n",
       "    }\n",
       "\n",
       "    .dataframe tbody tr th {\n",
       "        vertical-align: top;\n",
       "    }\n",
       "\n",
       "    .dataframe thead th {\n",
       "        text-align: right;\n",
       "    }\n",
       "</style>\n",
       "<table border=\"1\" class=\"dataframe\">\n",
       "  <thead>\n",
       "    <tr style=\"text-align: right;\">\n",
       "      <th></th>\n",
       "      <th>age</th>\n",
       "      <th>menopause</th>\n",
       "      <th>tumor-size</th>\n",
       "      <th>inv-nodes</th>\n",
       "      <th>node-caps</th>\n",
       "      <th>deg-malig</th>\n",
       "      <th>breast</th>\n",
       "      <th>breast-quad</th>\n",
       "      <th>irradiat</th>\n",
       "      <th>recurrence</th>\n",
       "    </tr>\n",
       "  </thead>\n",
       "  <tbody>\n",
       "    <tr>\n",
       "      <td>10</td>\n",
       "      <td>250.0</td>\n",
       "      <td>premeno</td>\n",
       "      <td>30.0</td>\n",
       "      <td>3.0</td>\n",
       "      <td>no</td>\n",
       "      <td>2</td>\n",
       "      <td>left</td>\n",
       "      <td>right_low</td>\n",
       "      <td>yes</td>\n",
       "      <td>no-recurrence-events</td>\n",
       "    </tr>\n",
       "  </tbody>\n",
       "</table>\n",
       "</div>"
      ],
      "text/plain": [
       "      age menopause  tumor-size  inv-nodes node-caps  deg-malig breast  \\\n",
       "10  250.0   premeno        30.0        3.0        no          2   left   \n",
       "\n",
       "   breast-quad irradiat            recurrence  \n",
       "10   right_low      yes  no-recurrence-events  "
      ]
     },
     "metadata": {},
     "output_type": "display_data"
    }
   ],
   "source": [
    "# Remove that line with the incorrect age=250 and age=-5\n",
    "display(df[df['age']==250])\n",
    "index_to_drop = df[df['age']==250].index\n",
    "df.drop(index_to_drop, inplace=True)\n",
    "index_to_drop = df[df['age']==-5].index\n",
    "df.drop(index_to_drop, inplace=True)"
   ]
  },
  {
   "cell_type": "code",
   "execution_count": 7,
   "metadata": {},
   "outputs": [],
   "source": [
    "# Let's reset the indices to the dataframe after dropping a few rows\n",
    "df = df.reset_index(drop=True)"
   ]
  },
  {
   "cell_type": "code",
   "execution_count": 8,
   "metadata": {},
   "outputs": [],
   "source": [
    "# pandas get_dummies function is the one-hot-encoder\n",
    "def encode_onehot(_df, f):\n",
    "    _df2 = pd.get_dummies(_df[f], prefix='', prefix_sep='').max(level=0, axis=1).add_prefix(f+' - ')\n",
    "    df3 = pd.concat([_df, _df2], axis=1)\n",
    "    df3 = df3.drop([f], axis=1)\n",
    "    return df3"
   ]
  },
  {
   "cell_type": "code",
   "execution_count": 9,
   "metadata": {},
   "outputs": [],
   "source": [
    "# Apply the onehot-encoding method\n",
    "df_o = encode_onehot(df, 'menopause')"
   ]
  },
  {
   "cell_type": "code",
   "execution_count": 10,
   "metadata": {},
   "outputs": [],
   "source": [
    "# Apply the rest of the nominal features too\n",
    "df_o = encode_onehot(df_o, 'node-caps')\n",
    "df_o = encode_onehot(df_o, 'breast')\n",
    "df_o = encode_onehot(df_o, 'breast-quad')\n",
    "df_o = encode_onehot(df_o, 'irradiat')"
   ]
  },
  {
   "cell_type": "code",
   "execution_count": 11,
   "metadata": {},
   "outputs": [],
   "source": [
    "from sklearn.ensemble import RandomForestClassifier\n",
    "from sklearn.metrics import accuracy_score\n",
    "from sklearn.model_selection import KFold, StratifiedKFold, train_test_split\n",
    "\n",
    "# We will reuse the classifier function below\n",
    "def rf_train_test(_X_tr, _X_ts, _y_tr, _y_ts):\n",
    "    # Create a new random forest classifier, with working 4 parallel cores\n",
    "    rf = RandomForestClassifier(n_estimators=200, max_depth=5, random_state=None, n_jobs=4)\n",
    "    # Train on training data\n",
    "    model = rf.fit(_X_tr, _y_tr)\n",
    "    # Test on training data\n",
    "    y_pred = rf.predict(_X_ts)\n",
    "    # Return accuracy\n",
    "    return accuracy_score(_y_ts, y_pred)"
   ]
  },
  {
   "cell_type": "code",
   "execution_count": 12,
   "metadata": {},
   "outputs": [],
   "source": [
    "# Prepare the input X matrix and target y vector\n",
    "X = df_o.loc[:, df_o.columns != 'recurrence'].values\n",
    "y = df_o.loc[:, df_o.columns == 'recurrence'].values.ravel()"
   ]
  },
  {
   "cell_type": "code",
   "execution_count": 13,
   "metadata": {},
   "outputs": [
    {
     "data": {
      "text/plain": [
       "0.7966101694915254"
      ]
     },
     "execution_count": 13,
     "metadata": {},
     "output_type": "execute_result"
    }
   ],
   "source": [
    "# 80% split\n",
    "X_train, X_test, y_train, y_test = train_test_split(X, y, test_size=0.20, random_state=None)\n",
    "rf_train_test(X_train, X_test, y_train, y_test)"
   ]
  },
  {
   "cell_type": "code",
   "execution_count": 14,
   "metadata": {},
   "outputs": [
    {
     "name": "stdout",
     "output_type": "stream",
     "text": [
      "0.7796610169491526\n",
      "0.711864406779661\n",
      "0.6949152542372882\n",
      "0.7627118644067796\n",
      "0.8135593220338984\n",
      "0.7457627118644068\n",
      "0.6271186440677966\n",
      "0.7288135593220338\n",
      "0.8135593220338984\n",
      "0.711864406779661\n"
     ]
    }
   ],
   "source": [
    "# Run 10 times\n",
    "for i in range(10):\n",
    "    X_train, X_test, y_train, y_test = train_test_split(X, y, test_size=0.20, random_state=None)\n",
    "    print(rf_train_test(X_train, X_test, y_train, y_test))"
   ]
  },
  {
   "cell_type": "code",
   "execution_count": 15,
   "metadata": {},
   "outputs": [
    {
     "name": "stdout",
     "output_type": "stream",
     "text": [
      "80% train-test split accuracy is 0.736 ±0.0476\n",
      "Wall time: 25.1 s\n"
     ]
    }
   ],
   "source": [
    "%%time\n",
    "# Run 100 times and collect statistics\n",
    "accuracies = []\n",
    "for i in range(100):\n",
    "    X_train, X_test, y_train, y_test = train_test_split(X, y, test_size=0.20, random_state=None)\n",
    "    accuracies += [rf_train_test(X_train, X_test, y_train, y_test)]\n",
    "\n",
    "print(f'80% train-test split accuracy is {np.mean(accuracies):.3f} {chr(177)}{np.std(accuracies):.4f}')"
   ]
  },
  {
   "cell_type": "code",
   "execution_count": 16,
   "metadata": {},
   "outputs": [
    {
     "name": "stdout",
     "output_type": "stream",
     "text": [
      "10-fold cross validation accuracy is 0.732 ±0.0726\n",
      "Wall time: 2.51 s\n"
     ]
    }
   ],
   "source": [
    "%%time\n",
    "# 10-fold cross validation\n",
    "accuracies = []\n",
    "kf = KFold(n_splits=10,shuffle=False,random_state=None)\n",
    "for train_index, test_index in kf.split(X, y):\n",
    "    acc = rf_train_test(X[train_index], X[test_index], y[train_index], y[test_index])\n",
    "    accuracies += [acc]\n",
    "\n",
    "print(f'10-fold cross validation accuracy is {np.mean(accuracies):.3f} {chr(177)}{np.std(accuracies):.4f}')"
   ]
  },
  {
   "cell_type": "code",
   "execution_count": 19,
   "metadata": {},
   "outputs": [
    {
     "name": "stdout",
     "output_type": "stream",
     "text": [
      "3-fold cross validation accuracy is 0.729 ±0.0212\n",
      "Wall time: 746 ms\n"
     ]
    }
   ],
   "source": [
    "%%time\n",
    "# 3-fold cross validation\n",
    "accuracies = []\n",
    "kf = KFold(n_splits=3,shuffle=False,random_state=None)\n",
    "for train_index, test_index in kf.split(X, y):\n",
    "    acc = rf_train_test(X[train_index], X[test_index], y[train_index], y[test_index])\n",
    "    accuracies += [acc]\n",
    "\n",
    "print(f'3-fold cross validation accuracy is {np.mean(accuracies):.3f} {chr(177)}{np.std(accuracies):.4f}')"
   ]
  },
  {
   "cell_type": "code",
   "execution_count": 17,
   "metadata": {},
   "outputs": [
    {
     "name": "stdout",
     "output_type": "stream",
     "text": [
      "Stratified 10-fold cross validation accuracy is 0.731 ±0.0495 with 100 total iterations\n",
      "Wall time: 2.5 s\n"
     ]
    }
   ],
   "source": [
    "%%time\n",
    "def eval_classifier(X, y, niter):\n",
    "    accuracies = []\n",
    "    kf = StratifiedKFold(n_splits=10,shuffle=False,random_state=None)\n",
    "    for train_index, test_index in kf.split(X, y):\n",
    "        acc = rf_train_test(X[train_index], X[test_index], y[train_index], y[test_index])\n",
    "        accuracies += [acc]\n",
    "\n",
    "    print( (f'Stratified 10-fold cross validation accuracy is '\n",
    "            f'{np.mean(accuracies):.3f} {chr(177)}{np.std(accuracies):.4f} with {niter} total iterations')\n",
    "         )\n",
    "\n",
    "eval_classifier(X, y, 100)"
   ]
  },
  {
   "cell_type": "code",
   "execution_count": null,
   "metadata": {},
   "outputs": [],
   "source": []
  }
 ],
 "metadata": {
  "kernelspec": {
   "display_name": "Python 3",
   "language": "python",
   "name": "python3"
  },
  "language_info": {
   "codemirror_mode": {
    "name": "ipython",
    "version": 3
   },
   "file_extension": ".py",
   "mimetype": "text/x-python",
   "name": "python",
   "nbconvert_exporter": "python",
   "pygments_lexer": "ipython3",
   "version": "3.7.4"
  }
 },
 "nbformat": 4,
 "nbformat_minor": 2
}
