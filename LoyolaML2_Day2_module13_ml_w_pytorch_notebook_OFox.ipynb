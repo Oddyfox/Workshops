{
 "cells": [
  {
   "cell_type": "code",
   "execution_count": 1,
   "metadata": {},
   "outputs": [
    {
     "name": "stdout",
     "output_type": "stream",
     "text": [
      "PyTorch version= 1.9.1\n",
      "CUDA available= True\n"
     ]
    }
   ],
   "source": [
    "%matplotlib inline\n",
    "import matplotlib.pyplot as plt\n",
    "import numpy as np\n",
    "\n",
    "import torch\n",
    "\n",
    "print(f'PyTorch version= {torch.__version__}')\n",
    "print(f'CUDA available= {torch.cuda.is_available()}')"
   ]
  },
  {
   "cell_type": "code",
   "execution_count": 2,
   "metadata": {},
   "outputs": [
    {
     "name": "stdout",
     "output_type": "stream",
     "text": [
      "Type= torch.FloatTensor\n",
      "Shape/size= torch.Size([2, 3])\n",
      "Values= tensor([[0., 0., 0.],\n",
      "        [0., 0., 0.]])\n"
     ]
    }
   ],
   "source": [
    "# A helper function to display properties of the Python objects\n",
    "def describe(x):\n",
    "    print(f\"Type= {x.type()}\")\n",
    "    print(f\"Shape/size= {x.shape}\")\n",
    "    print(f\"Values= {x}\")\n",
    "\n",
    "# Random tensor, has dummy values from the computer memory - not initialized\n",
    "describe(torch.Tensor(2, 3))"
   ]
  },
  {
   "cell_type": "code",
   "execution_count": 3,
   "metadata": {},
   "outputs": [
    {
     "name": "stdout",
     "output_type": "stream",
     "text": [
      "Type= torch.FloatTensor\n",
      "Shape/size= torch.Size([2, 3])\n",
      "Values= tensor([[1., 1., 1.],\n",
      "        [1., 1., 1.]])\n",
      "Type= torch.FloatTensor\n",
      "Shape/size= torch.Size([2, 3])\n",
      "Values= tensor([[5., 5., 5.],\n",
      "        [5., 5., 5.]])\n"
     ]
    }
   ],
   "source": [
    "# Initialization\n",
    "x = torch.ones(2, 3)\n",
    "describe(x)\n",
    "\n",
    "# Initialization\n",
    "x.fill_(5)\n",
    "describe(x)"
   ]
  },
  {
   "cell_type": "code",
   "execution_count": 4,
   "metadata": {},
   "outputs": [
    {
     "name": "stdout",
     "output_type": "stream",
     "text": [
      "Type= torch.DoubleTensor\n",
      "Shape/size= torch.Size([2, 3])\n",
      "Values= tensor([[0.1355, 0.5889, 0.3732],\n",
      "        [0.7477, 0.5798, 0.5491]], dtype=torch.float64)\n"
     ]
    }
   ],
   "source": [
    "# Initialize from a numpy array\n",
    "np_array = np.random.rand(2, 3)\n",
    "describe(torch.from_numpy(np_array))"
   ]
  },
  {
   "cell_type": "code",
   "execution_count": 5,
   "metadata": {},
   "outputs": [
    {
     "name": "stdout",
     "output_type": "stream",
     "text": [
      "Type= torch.LongTensor\n",
      "Shape/size= torch.Size([6])\n",
      "Values= tensor([0, 1, 2, 3, 4, 5])\n"
     ]
    }
   ],
   "source": [
    "# Initialization using arange\n",
    "x = torch.arange(6)\n",
    "describe(x)"
   ]
  },
  {
   "cell_type": "code",
   "execution_count": 6,
   "metadata": {},
   "outputs": [
    {
     "name": "stdout",
     "output_type": "stream",
     "text": [
      "Type= torch.LongTensor\n",
      "Shape/size= torch.Size([2, 3])\n",
      "Values= tensor([[0, 1, 2],\n",
      "        [3, 4, 5]])\n"
     ]
    }
   ],
   "source": [
    "# Convert shape (1,6) to shape (2,3)\n",
    "x = x.view(2, 3)\n",
    "describe(x)"
   ]
  },
  {
   "cell_type": "code",
   "execution_count": 7,
   "metadata": {},
   "outputs": [
    {
     "name": "stdout",
     "output_type": "stream",
     "text": [
      "Type= torch.LongTensor\n",
      "Shape/size= torch.Size([3])\n",
      "Values= tensor([3, 5, 7])\n"
     ]
    }
   ],
   "source": [
    "# Sum values on dimension 0, i.e. vertically on columns\n",
    "describe(torch.sum(x, dim=0))"
   ]
  },
  {
   "cell_type": "code",
   "execution_count": 8,
   "metadata": {},
   "outputs": [
    {
     "name": "stdout",
     "output_type": "stream",
     "text": [
      "Type= torch.LongTensor\n",
      "Shape/size= torch.Size([2])\n",
      "Values= tensor([ 3, 12])\n"
     ]
    }
   ],
   "source": [
    "# Sum values on dimension 1, i.e. horizontally on rows\n",
    "describe(torch.sum(x, dim=1))"
   ]
  },
  {
   "cell_type": "code",
   "execution_count": 9,
   "metadata": {},
   "outputs": [
    {
     "name": "stdout",
     "output_type": "stream",
     "text": [
      "Type= torch.LongTensor\n",
      "Shape/size= torch.Size([3, 2])\n",
      "Values= tensor([[0, 3],\n",
      "        [1, 4],\n",
      "        [2, 5]])\n"
     ]
    }
   ],
   "source": [
    "# Transpose of the matrix\n",
    "describe(torch.transpose(x, 0, 1))"
   ]
  },
  {
   "cell_type": "code",
   "execution_count": 10,
   "metadata": {},
   "outputs": [
    {
     "name": "stdout",
     "output_type": "stream",
     "text": [
      "Type= torch.LongTensor\n",
      "Shape/size= torch.Size([2, 3])\n",
      "Values= tensor([[0, 1, 2],\n",
      "        [3, 4, 5]])\n",
      "Type= torch.LongTensor\n",
      "Shape/size= torch.Size([1, 2])\n",
      "Values= tensor([[0, 1]])\n"
     ]
    }
   ],
   "source": [
    "# Slicing works similarly to numpy\n",
    "describe(x)\n",
    "describe(x[:1, :2])"
   ]
  },
  {
   "cell_type": "code",
   "execution_count": 11,
   "metadata": {},
   "outputs": [
    {
     "name": "stdout",
     "output_type": "stream",
     "text": [
      "Type= torch.FloatTensor\n",
      "Shape/size= torch.Size([2, 2])\n",
      "Values= tensor([[1., 1.],\n",
      "        [1., 1.]], requires_grad=True)\n",
      "True\n"
     ]
    }
   ],
   "source": [
    "# Create a 2 by 2 matrix, all ones\n",
    "x = torch.ones(2, 2, requires_grad=True)\n",
    "describe(x)\n",
    "\n",
    "print(x.grad is None)"
   ]
  },
  {
   "cell_type": "code",
   "execution_count": 12,
   "metadata": {},
   "outputs": [
    {
     "name": "stdout",
     "output_type": "stream",
     "text": [
      "Type= torch.FloatTensor\n",
      "Shape/size= torch.Size([2, 2])\n",
      "Values= tensor([[21., 21.],\n",
      "        [21., 21.]], grad_fn=<AddBackward0>)\n",
      "True\n"
     ]
    }
   ],
   "source": [
    "# Define a linear computation\n",
    "y = (x+2) * (x+5) + 3\n",
    "describe(y)\n",
    "\n",
    "print(x.grad is None)"
   ]
  },
  {
   "cell_type": "code",
   "execution_count": 13,
   "metadata": {},
   "outputs": [
    {
     "name": "stdout",
     "output_type": "stream",
     "text": [
      "Type= torch.FloatTensor\n",
      "Shape/size= torch.Size([])\n",
      "Values= 21.0\n",
      "False\n"
     ]
    }
   ],
   "source": [
    "# Take mean of y, gradient is none\n",
    "z = y.mean()\n",
    "describe(z)\n",
    "\n",
    "z.backward()\n",
    "\n",
    "print(x.grad is None)"
   ]
  },
  {
   "cell_type": "code",
   "execution_count": 14,
   "metadata": {},
   "outputs": [],
   "source": [
    "import torch.nn as nn\n",
    "\n",
    "class Perceptron(nn.Module):\n",
    "    \"\"\" A perceptron is one linear layer \"\"\"\n",
    "    def __init__(self, input_dim):\n",
    "        \"\"\"\n",
    "        Args:\n",
    "            input_dim (int): size of the input features\n",
    "        \"\"\"\n",
    "        super(Perceptron, self).__init__()\n",
    "        self.fc1 = nn.Linear(input_dim, 1)\n",
    "\n",
    "    def forward(self, x_in):\n",
    "        \"\"\" The forward pass of the perceptron\n",
    "        Args:\n",
    "            x_in (torch.Tensor): an input data tensor\n",
    "            x_in.shape should be (batch, num_features)\n",
    "        Returns:\n",
    "            the resulting tensor. tensor.shape should be (batch,).\n",
    "        \"\"\"\n",
    "        return torch.sigmoid(self.fc1(x_in)).squeeze()"
   ]
  },
  {
   "cell_type": "code",
   "execution_count": 15,
   "metadata": {},
   "outputs": [
    {
     "data": {
      "image/png": "[encoded data removed]",
      "text/plain": [
       "<Figure size 1080x216 with 4 Axes>"
      ]
     },
     "metadata": {
      "needs_background": "light"
     },
     "output_type": "display_data"
    }
   ],
   "source": [
    "x = torch.arange(-5, 5, .1)\n",
    "y1 = torch.sigmoid(x)\n",
    "y2 = torch.tanh(x)\n",
    "y3 = torch.relu(x)\n",
    "y4 = nn.functional.leaky_relu(x, negative_slope=0.05)\n",
    "\n",
    "plt.figure(figsize=(15, 3))\n",
    "\n",
    "ax=plt.subplot(1, 4, 1); ax.grid(); plt.title(\"sigmoid\", x=0.2, y=0.8)\n",
    "ax.plot(x.numpy(), y1.numpy())\n",
    "\n",
    "ax=plt.subplot(1, 4, 2); ax.grid(); plt.title(\"tanh\", x=0.2, y=0.8)\n",
    "ax.plot(x.numpy(), y2.numpy())\n",
    "\n",
    "ax=plt.subplot(1, 4, 3); ax.grid(); plt.title(\"ReLU\", x=0.2, y=0.8)\n",
    "ax.plot(x.numpy(), y3.numpy())\n",
    "\n",
    "ax=plt.subplot(1, 4, 4); ax.grid(); plt.title(\"LeakyReLU\", x=0.2, y=0.8)\n",
    "ax.plot(x.numpy(), y4.numpy())\n",
    "\n",
    "plt.show()"
   ]
  },
  {
   "cell_type": "code",
   "execution_count": 16,
   "metadata": {},
   "outputs": [
    {
     "name": "stdout",
     "output_type": "stream",
     "text": [
      "tensor([[-0.6755,  0.2045,  1.3895]])\n",
      "tensor([[0.0885, 0.2134, 0.6980]])\n",
      "tensor([1.])\n"
     ]
    }
   ],
   "source": [
    "# Check the softmax output \n",
    "softmax = nn.Softmax(dim=1)\n",
    "x_input = torch.randn(1, 3)\n",
    "y_output = softmax(x_input)\n",
    "\n",
    "print(x_input)\n",
    "print(y_output)\n",
    "print(torch.sum(y_output, dim=1))"
   ]
  },
  {
   "cell_type": "code",
   "execution_count": 17,
   "metadata": {},
   "outputs": [
    {
     "name": "stdout",
     "output_type": "stream",
     "text": [
      "tensor(1.7741, grad_fn=<MseLossBackward>)\n"
     ]
    }
   ],
   "source": [
    "# Demonstrate MSE loss\n",
    "mse_loss = nn.MSELoss()\n",
    "outputs = torch.randn(3, 5, requires_grad=True)\n",
    "targets = torch.randn(3, 5)\n",
    "\n",
    "loss = mse_loss(outputs, targets)\n",
    "\n",
    "print(loss)"
   ]
  },
  {
   "cell_type": "code",
   "execution_count": 18,
   "metadata": {},
   "outputs": [
    {
     "name": "stdout",
     "output_type": "stream",
     "text": [
      "tensor(1.6278, grad_fn=<NllLossBackward>)\n"
     ]
    }
   ],
   "source": [
    "# Demonstrate CCE loss\n",
    "ce_loss = nn.CrossEntropyLoss()\n",
    "outputs = torch.randn(3, 5, requires_grad=True)\n",
    "targets = torch.tensor([1, 0, 3], dtype=torch.int64)\n",
    "\n",
    "loss = ce_loss(outputs, targets)\n",
    "\n",
    "print(loss)"
   ]
  },
  {
   "cell_type": "code",
   "execution_count": 19,
   "metadata": {},
   "outputs": [
    {
     "name": "stdout",
     "output_type": "stream",
     "text": [
      "tensor([[0.2412],\n",
      "        [0.5953],\n",
      "        [0.4558],\n",
      "        [0.4130]], grad_fn=<SigmoidBackward>)\n",
      "tensor(0.9113, grad_fn=<BinaryCrossEntropyBackward>)\n"
     ]
    }
   ],
   "source": [
    "# Demonstrate BCE loss\n",
    "bce_loss = nn.BCELoss()\n",
    "sigmoid = nn.Sigmoid()\n",
    "probabilities = sigmoid(torch.randn(4, 1, requires_grad=True))\n",
    "targets = torch.tensor([1, 0, 1, 0], dtype=torch.float32).view(4, 1)\n",
    "\n",
    "loss = bce_loss(probabilities, targets)\n",
    "\n",
    "print(probabilities)\n",
    "print(loss)"
   ]
  },
  {
   "cell_type": "code",
   "execution_count": 20,
   "metadata": {},
   "outputs": [
    {
     "name": "stdout",
     "output_type": "stream",
     "text": [
      "Adam (\n",
      "Parameter Group 0\n",
      "    amsgrad: False\n",
      "    betas: (0.9, 0.999)\n",
      "    eps: 1e-08\n",
      "    lr: 0.001\n",
      "    weight_decay: 0\n",
      ")\n"
     ]
    }
   ],
   "source": [
    "# Demonstrate the Adam optimizer\n",
    "import torch.optim as optim\n",
    "\n",
    "input_dim = 2\n",
    "learning_rate = 0.001  # this must be found by a hyper-parameter search\n",
    "\n",
    "perceptron = Perceptron(input_dim=input_dim)  # defined above\n",
    "bce_loss = nn.BCELoss()  # Binary cross entropy loss\n",
    "optimizer = optim.Adam(params=perceptron.parameters(), lr=learning_rate)\n",
    "\n",
    "print(optimizer)"
   ]
  },
  {
   "cell_type": "code",
   "execution_count": 21,
   "metadata": {},
   "outputs": [
    {
     "name": "stdout",
     "output_type": "stream",
     "text": [
      "Number of words= 10286120\n",
      "K categories=20 ['.net' 'android' 'angularjs' 'asp.net' 'c' 'c#' 'c++' 'css' 'html' 'ios'\n",
      " 'iphone' 'java' 'javascript' 'jquery' 'mysql' 'objective-c' 'php'\n",
      " 'python' 'ruby-on-rails' 'sql']\n",
      "N data points= 40000, M features= 1000\n"
     ]
    }
   ],
   "source": [
    "import pandas as pd\n",
    "from sklearn.feature_extraction.text import TfidfVectorizer\n",
    "\n",
    "df = pd.read_csv('stack_overflow_data.csv')\n",
    "df = df[pd.notnull(df['tags'])]\n",
    "print(f\"Number of words= {df['post'].apply(lambda x: len(x.split(' '))).sum()}\")\n",
    "\n",
    "plCats = np.unique(df['tags'])\n",
    "print(f\"K categories={len(plCats):d} {plCats}\")\n",
    "\n",
    "X_tfidf = TfidfVectorizer(dtype=np.float32, max_features=1000).fit_transform(df.post).todense()\n",
    "print(f\"N data points= {X_tfidf.shape[0]}, M features= {X_tfidf.shape[1]}\")"
   ]
  },
  {
   "cell_type": "code",
   "execution_count": 22,
   "metadata": {},
   "outputs": [],
   "source": [
    "def kfold_eval_docs(_clf, _Xdocs, _ydocs):\n",
    "    from sklearn.model_selection import StratifiedKFold\n",
    "    from sklearn.metrics import accuracy_score\n",
    "\n",
    "    # Need indexable data structure\n",
    "    acc = []\n",
    "    kf = StratifiedKFold(n_splits=10, shuffle=False, random_state=None)\n",
    "    for train_index, test_index in kf.split(_Xdocs, _ydocs):\n",
    "        _clf.fit(_Xdocs[train_index], _ydocs[train_index])\n",
    "        y_pred = _clf.predict(_Xdocs[test_index])\n",
    "        acc += [accuracy_score(_ydocs[test_index], y_pred)]\n",
    "    return np.array(acc)"
   ]
  },
  {
   "cell_type": "code",
   "execution_count": 23,
   "metadata": {},
   "outputs": [
    {
     "name": "stdout",
     "output_type": "stream",
     "text": [
      "Linear SVM 10-fold CV accuracy= 0.79 ±0.005\n",
      "Wall time: 23.3 s\n"
     ]
    }
   ],
   "source": [
    "%%time\n",
    "\n",
    "from sklearn.svm import LinearSVC\n",
    "\n",
    "acc = kfold_eval_docs(LinearSVC(class_weight='balanced'), X_tfidf, df.tags)\n",
    "\n",
    "print(f\"Linear SVM 10-fold CV accuracy= {np.mean(acc):.2f} {chr(177)}{np.std(acc):.3f}\")"
   ]
  },
  {
   "cell_type": "code",
   "execution_count": 24,
   "metadata": {},
   "outputs": [],
   "source": [
    "import torch.nn as nn\n",
    "import torch.nn.functional as F\n",
    "\n",
    "class MyNetwork(nn.Module):\n",
    "    \"\"\" A PyTorch neural network model \"\"\"\n",
    "    def __init__(self):\n",
    "        super(MyNetwork, self).__init__()\n",
    "        self.fc1 = nn.Linear(1000, 100)  # A simple input layer, size M x Hsize\n",
    "        self.fc2 = nn.Linear( 100, 100)  # A simple hidden layer, size Hsize x Hsize\n",
    "        self.fc3 = nn.Linear( 100,  20)  # A simple output layer, size Hsize x K\n",
    "\n",
    "    def forward(self, x, apply_softmax=False):\n",
    "        x = F.relu(self.fc1(x))\n",
    "        x = F.relu(self.fc2(x))\n",
    "        x = self.fc3(x)\n",
    "        if apply_softmax:\n",
    "            x = F.softmax(x, dim=1)\n",
    "        return x"
   ]
  },
  {
   "cell_type": "code",
   "execution_count": 25,
   "metadata": {},
   "outputs": [
    {
     "name": "stdout",
     "output_type": "stream",
     "text": [
      "MyNetwork(\n",
      "  (fc1): Linear(in_features=1000, out_features=100, bias=True)\n",
      "  (fc2): Linear(in_features=100, out_features=100, bias=True)\n",
      "  (fc3): Linear(in_features=100, out_features=20, bias=True)\n",
      ")\n"
     ]
    }
   ],
   "source": [
    "# Instantiate the neural network\n",
    "Net1 = MyNetwork()\n",
    "print(Net1)\n",
    "\n",
    "# Set the learning rate - this part is magic of course\n",
    "eta = 0.05"
   ]
  },
  {
   "cell_type": "code",
   "execution_count": 26,
   "metadata": {},
   "outputs": [],
   "source": [
    "# Create a Stochastic Gradient Descent optimizer\n",
    "optimizer = optim.SGD(Net1.parameters(), lr=eta, momentum=0.9)\n",
    "\n",
    "# Create the loss function\n",
    "loss_func = nn.CrossEntropyLoss()"
   ]
  },
  {
   "cell_type": "code",
   "execution_count": 27,
   "metadata": {},
   "outputs": [],
   "source": [
    "from sklearn.model_selection import train_test_split\n",
    "\n",
    "# Class labels (integers) are int64 for PyTorch\n",
    "y_tfidf = np.array(df.tags.astype('category').cat.codes, dtype='int64')\n",
    "\n",
    "# Use validation to measure generalization performance\n",
    "X_train, X_test, y_train, y_test = train_test_split(X_tfidf, y_tfidf, test_size=0.3)\n",
    "X_train, X_val, y_train, y_val = train_test_split(X_train, y_train, test_size=0.1)"
   ]
  },
  {
   "cell_type": "code",
   "execution_count": 28,
   "metadata": {},
   "outputs": [],
   "source": [
    "# Convert to tensors\n",
    "X_train, y_train = torch.tensor(X_train), torch.tensor(y_train)\n",
    "X_test, y_test = torch.tensor(X_test), torch.tensor(y_test)\n",
    "X_val, y_val = torch.tensor(X_val), torch.tensor(y_val)"
   ]
  },
  {
   "cell_type": "code",
   "execution_count": 29,
   "metadata": {},
   "outputs": [],
   "source": [
    "def predict(_x):\n",
    "    net_out = Net1.forward(_x, apply_softmax=True)\n",
    "    p_values, indices = net_out.max(dim=1)\n",
    "    return indices"
   ]
  },
  {
   "cell_type": "code",
   "execution_count": 30,
   "metadata": {},
   "outputs": [
    {
     "name": "stderr",
     "output_type": "stream",
     "text": [
      "100/100 | Cost: 0.45 | Train/Valid Acc.: 85.67%/76.57%"
     ]
    }
   ],
   "source": [
    "import sys\n",
    "\n",
    "epochs=100\n",
    "minibatch_size=1000\n",
    "\n",
    "# The main training loop\n",
    "for i in range(epochs):\n",
    "    indices = np.arange(X_train.shape[0])\n",
    "    for start_idx in range(0, indices.shape[0] - minibatch_size + 1, minibatch_size):\n",
    "        batch_idx = indices[start_idx:start_idx + minibatch_size]\n",
    "        # step 1.\n",
    "        optimizer.zero_grad()\n",
    "        # step 2.\n",
    "        net_out = Net1.forward(X_train[batch_idx])\n",
    "        # step 3.\n",
    "        loss = loss_func(net_out, y_train[batch_idx])\n",
    "        # step 4.\n",
    "        loss.backward()\n",
    "        # step 5.\n",
    "        optimizer.step()\n",
    "\n",
    "    y_pred = predict(X_train)\n",
    "    y_val_pred = predict(X_val)\n",
    "    \n",
    "    train_acc = (torch.sum(y_train == y_pred).float() / X_train.shape[0])\n",
    "    val_acc = (torch.sum(y_val == y_val_pred).float() / X_val.shape[0])\n",
    "    \n",
    "    sys.stderr.write(f\"\\r{i+1}/{epochs} | Cost: {loss:.2f} | Train/Valid Acc.: {train_acc*100:.2f}%/{val_acc*100:.2f}%\")\n",
    "    sys.stderr.flush()"
   ]
  },
  {
   "cell_type": "code",
   "execution_count": 31,
   "metadata": {},
   "outputs": [
    {
     "name": "stdout",
     "output_type": "stream",
     "text": [
      "Feedforward NN testing accuracy= 0.77\n"
     ]
    }
   ],
   "source": [
    "y_pred = predict(X_test)\n",
    "test_acc = (torch.sum(y_test == y_pred).float() / X_test.shape[0])\n",
    "\n",
    "print(f\"Feedforward NN testing accuracy= {test_acc:.2f}\")"
   ]
  },
  {
   "cell_type": "code",
   "execution_count": 40,
   "metadata": {},
   "outputs": [],
   "source": [
    "import numpy as np\n",
    "\n",
    "import torch\n",
    "import torch.nn as nn\n",
    "import torch.nn.functional as F\n",
    "import torch.optim as optim\n",
    "\n",
    "class CustomMLP(nn.Module):\n",
    "    \"\"\" A PyTorch neural network model \"\"\"\n",
    "    def __init__(self, n_hidden=30, epochs=100, eta=0.05, minibatch_size=50):\n",
    "        super(CustomMLP, self).__init__()\n",
    "        self.n_hidden = n_hidden  # hidden layer size\n",
    "        self.epochs = epochs  # number of learning iterations\n",
    "        self.eta = eta  # learning rate\n",
    "        self.minibatch_size = minibatch_size  # size of training batch - 1 would not work\n",
    "        self.fc1, self.fc2, self.fc3 = None, None, None\n",
    "        \n",
    "        self.dropout = nn.Dropout( 0.5 )\n",
    "\n",
    "    def _forward(self, X, apply_softmax=False):\n",
    "        assert self.fc1 != None\n",
    "        X = F.relu(self.fc1(X))\n",
    "\n",
    "        X = F.relu( self.dropout( self.fc2( X ) ) )\n",
    "        X = F.relu(self.fc3(X))\n",
    "        \n",
    "        if apply_softmax:\n",
    "            X = F.softmax(X, dim=1)\n",
    "        return X\n",
    "\n",
    "    def _reset(self):\n",
    "        for m in self.modules():\n",
    "            if isinstance(m, nn.Linear):\n",
    "                 m.reset_parameters()\n",
    "\n",
    "    def predict(self, X):\n",
    "        assert self.fc1 != None\n",
    "        net_out = self._forward(X, apply_softmax=True)\n",
    "        p_values, indices = net_out.max(dim=1)\n",
    "        return indices\n",
    "\n",
    "    def fit(self, X_train, y_train):\n",
    "        self._reset()  # Reset the neural network weights\n",
    "        n_output= np.unique(y_train).shape[0]  # number of class labels\n",
    "        n_features= X_train.shape[1]\n",
    "\n",
    "        self.fc1 = nn.Linear(n_features, self.n_hidden)  # A simple input layer\n",
    "        self.fc2 = nn.Linear(self.n_hidden, self.n_hidden)  # A simple hidden layer\n",
    "        self.fc3 = nn.Linear(self.n_hidden, n_output)  # A simple output layer\n",
    "        \n",
    "        optimizer = optim.SGD(self.parameters(), lr=self.eta, momentum=0.9)\n",
    "        loss_func = nn.CrossEntropyLoss()\n",
    "\n",
    "        for _ in range(self.epochs):\n",
    "            indices = np.arange(X_train.shape[0])\n",
    "            \n",
    "            for start_idx in range(0, indices.shape[0] - self.minibatch_size + 1, self.minibatch_size):\n",
    "                batch_idx = indices[start_idx:start_idx + self.minibatch_size]\n",
    "                optimizer.zero_grad()\n",
    "                \n",
    "                net_out = self._forward(X_train[batch_idx])\n",
    "                \n",
    "                loss = loss_func(net_out, y_train[batch_idx])\n",
    "                loss.backward()\n",
    "                optimizer.step()"
   ]
  },
  {
   "cell_type": "code",
   "execution_count": 41,
   "metadata": {},
   "outputs": [
    {
     "name": "stdout",
     "output_type": "stream",
     "text": [
      "PyTorch Feedforward NN 10-fold CV accuracy= 0.77 ±0.005\n",
      "Wall time: 2min 30s\n"
     ]
    }
   ],
   "source": [
    "%%time\n",
    "\n",
    "# PyTorch Feedforward NN 10-fold CV accuracy= 0.78 ±0.006, Wall time: 2min 14s\n",
    "# With dropout, PyTorch Feedforward NN 10-fold CV accuracy= 0.45 ±0.005, Wall time: 2min 20s\n",
    "# Shifted dropout layer to inbetween layers 2 and 3, PyTorch Feedforward NN 10-fold CV accuracy= 0.78 ±0.006, Wall time: 2min 17s\n",
    "\n",
    "clf = CustomMLP(100, 100, 0.05, 1000)\n",
    "\n",
    "acc = kfold_eval_docs(clf, torch.tensor(X_tfidf), torch.tensor(y_tfidf))\n",
    "\n",
    "print(f\"PyTorch Feedforward NN 10-fold CV accuracy= {np.mean(acc):.2f} {chr(177)}{np.std(acc):.3f}\")"
   ]
  },
  {
   "cell_type": "code",
   "execution_count": 34,
   "metadata": {},
   "outputs": [],
   "source": [
    "import torch.nn as nn\n",
    "\n",
    "class RNN(nn.Module):\n",
    "    def __init__(self, n_features, n_hidden, n_output, eta=0.0005):\n",
    "        super(RNN, self).__init__()\n",
    "\n",
    "        self.n_features = n_features\n",
    "        self.n_hidden = n_hidden\n",
    "\n",
    "        self.i2h = nn.Linear(n_features + n_hidden, n_hidden)\n",
    "        self.i2o = nn.Linear(n_features + n_hidden, n_output)\n",
    "        self.softmax = nn.LogSoftmax(dim=1)\n",
    "\n",
    "        self.eta = eta  # learning rate\n",
    "        \n",
    "        # loss function, since the last layer is nn.LogSoftmax\n",
    "        self.criterion = nn.NLLLoss()\n",
    "\n",
    "\n",
    "    def forward(self, x, hidden):\n",
    "        combined = torch.cat((x, hidden), dim=1)\n",
    "        hidden = self.i2h(combined)\n",
    "        output = self.i2o(combined)\n",
    "        output = self.softmax(output)\n",
    "        return output, hidden\n",
    "\n",
    "    def init_hidden(self):\n",
    "        return torch.zeros(1, self.n_hidden)\n",
    "\n",
    "    def train_signal(self, sxx, y):\n",
    "        hidden = self.init_hidden()\n",
    "        self.zero_grad()\n",
    "\n",
    "        T = sxx.shape[0]\n",
    "        for i in range(T):  # i.e., for the duration of the signal\n",
    "            output, hidden = self.forward(sxx[i].reshape(1,self.n_features), hidden)\n",
    "\n",
    "        loss = self.criterion(output, y)\n",
    "        loss.backward()\n",
    "        \n",
    "        for p in self.parameters():\n",
    "            p.data.add_(-self.eta, p.grad.data)\n",
    "\n",
    "        return output, loss.item()"
   ]
  },
  {
   "cell_type": "code",
   "execution_count": null,
   "metadata": {},
   "outputs": [],
   "source": []
  }
 ],
 "metadata": {
  "kernelspec": {
   "display_name": "Python 3",
   "language": "python",
   "name": "python3"
  },
  "language_info": {
   "codemirror_mode": {
    "name": "ipython",
    "version": 3
   },
   "file_extension": ".py",
   "mimetype": "text/x-python",
   "name": "python",
   "nbconvert_exporter": "python",
   "pygments_lexer": "ipython3",
   "version": "3.7.4"
  }
 },
 "nbformat": 4,
 "nbformat_minor": 2
}
