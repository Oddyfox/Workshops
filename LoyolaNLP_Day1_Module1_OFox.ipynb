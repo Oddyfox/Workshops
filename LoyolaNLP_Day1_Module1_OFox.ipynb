{
 "cells": [
  {
   "cell_type": "code",
   "execution_count": 1,
   "metadata": {},
   "outputs": [],
   "source": [
    "# Standard scientific Python imports\n",
    "%matplotlib inline\n",
    "import matplotlib.pyplot as plt\n",
    "\n",
    "# Import datasets, classifiers and performance metrics\n",
    "from sklearn import datasets"
   ]
  },
  {
   "cell_type": "code",
   "execution_count": 2,
   "metadata": {},
   "outputs": [],
   "source": [
    "# The digits dataset for training\n",
    "digits = datasets.load_digits()\n",
    "\n",
    "# The data is made of 8x8 images of digits\n",
    "# zip the image and label (dependent variable) together\n",
    "images_and_labels = list(zip(digits.images, digits.target))"
   ]
  },
  {
   "cell_type": "code",
   "execution_count": 3,
   "metadata": {},
   "outputs": [
    {
     "name": "stdout",
     "output_type": "stream",
     "text": [
      "Number of images in the training set, N= 1797\n"
     ]
    }
   ],
   "source": [
    "print(f'Number of images in the training set, N= {len(images_and_labels)}')"
   ]
  },
  {
   "cell_type": "code",
   "execution_count": 4,
   "metadata": {},
   "outputs": [
    {
     "data": {
      "image/png": "[encoded data removed]",
      "text/plain": [
       "<Figure size 1440x720 with 40 Axes>"
      ]
     },
     "metadata": {
      "needs_background": "light"
     },
     "output_type": "display_data"
    }
   ],
   "source": [
    "# Draw the first 40 data points - in this case a single data point is an image\n",
    "plt.figure(1, figsize=(20, 10))\n",
    "for index, (image, label) in enumerate(images_and_labels[:40]):\n",
    "    plt.subplot(4, 10, index+1)\n",
    "    plt.axis('off')\n",
    "    plt.imshow(image, cmap=plt.cm.gray_r, interpolation='nearest')\n",
    "    plt.title(f'Training: {label}')"
   ]
  },
  {
   "cell_type": "code",
   "execution_count": 6,
   "metadata": {},
   "outputs": [
    {
     "name": "stdout",
     "output_type": "stream",
     "text": [
      "N=1797, M=64\n"
     ]
    }
   ],
   "source": [
    "# To apply a classifier on this data, we need to flatten the image\n",
    "# Turn the data in a (samples, feature) matrix:\n",
    "n_samples = len(digits.images)\n",
    "data = digits.images.reshape((n_samples, -1))\n",
    "\n",
    "print(f'N={len(data)}, M={len(data[0])}')"
   ]
  },
  {
   "cell_type": "code",
   "execution_count": 7,
   "metadata": {},
   "outputs": [],
   "source": [
    "from sklearn import svm, metrics\n",
    "\n",
    "# Create a classifier: a support vector classifier\n",
    "# gamma is normally determined using a hyperparameter search which would need a validation dataset\n",
    "classifier = svm.SVC(gamma=0.001)\n",
    "\n",
    "# Learn the digits on the first half of the digits - 50% data is used as the training set\n",
    "classifier.fit(data[:n_samples // 2], digits.target[:n_samples // 2])\n",
    "\n",
    "# Predict the value of the digit on the second half\n",
    "expected = digits.target[n_samples // 2:]\n",
    "predicted = classifier.predict(data[n_samples // 2:])"
   ]
  },
  {
   "cell_type": "code",
   "execution_count": 8,
   "metadata": {},
   "outputs": [
    {
     "name": "stdout",
     "output_type": "stream",
     "text": [
      "Classification report for classifier SVC(C=1.0, cache_size=200, class_weight=None, coef0=0.0,\n",
      "    decision_function_shape='ovr', degree=3, gamma=0.001, kernel='rbf',\n",
      "    max_iter=-1, probability=False, random_state=None, shrinking=True,\n",
      "    tol=0.001, verbose=False):\n",
      "Accuracy=0.969\n",
      "\n",
      "Wall time: 2 ms\n"
     ]
    }
   ],
   "source": [
    "%%time\n",
    "\n",
    "acc = metrics.accuracy_score(expected, predicted)\n",
    "\n",
    "print(f'Classification report for classifier {classifier}:\\nAccuracy={acc:.3f}\\n')"
   ]
  },
  {
   "cell_type": "code",
   "execution_count": 9,
   "metadata": {},
   "outputs": [
    {
     "name": "stdout",
     "output_type": "stream",
     "text": [
      "Confusion matrix:\n",
      "[[87  0  0  0  1  0  0  0  0  0]\n",
      " [ 0 88  1  0  0  0  0  0  1  1]\n",
      " [ 0  0 85  1  0  0  0  0  0  0]\n",
      " [ 0  0  0 79  0  3  0  4  5  0]\n",
      " [ 0  0  0  0 88  0  0  0  0  4]\n",
      " [ 0  0  0  0  0 88  1  0  0  2]\n",
      " [ 0  1  0  0  0  0 90  0  0  0]\n",
      " [ 0  0  0  0  0  1  0 88  0  0]\n",
      " [ 0  0  0  0  0  0  0  0 88  0]\n",
      " [ 0  0  0  1  0  1  0  0  0 90]]\n"
     ]
    }
   ],
   "source": [
    "print(f'Confusion matrix:\\n{metrics.confusion_matrix(expected, predicted)}')"
   ]
  },
  {
   "cell_type": "code",
   "execution_count": 10,
   "metadata": {},
   "outputs": [
    {
     "data": {
      "image/png": "[encoded data removed]",
      "text/plain": [
       "<Figure size 720x720 with 4 Axes>"
      ]
     },
     "metadata": {
      "needs_background": "light"
     },
     "output_type": "display_data"
    }
   ],
   "source": [
    "# Change the indices in images_and_predictions below to see more predictions\n",
    "images_and_predictions = list(zip(digits.images[n_samples // 2:], predicted))\n",
    "\n",
    "plt.figure(1, figsize=(10, 10))\n",
    "for index, (image, prediction) in enumerate(images_and_predictions[30:34]):\n",
    "    plt.subplot(2, 4, index + 5)\n",
    "    plt.axis('off')\n",
    "    plt.imshow(image, cmap=plt.cm.gray_r, interpolation='nearest')\n",
    "    plt.title(f'Prediction: {prediction}\\n - Ground Truth: {expected[index+30]}')\n",
    "\n",
    "plt.show()"
   ]
  },
  {
   "cell_type": "code",
   "execution_count": 16,
   "metadata": {},
   "outputs": [
    {
     "name": "stdout",
     "output_type": "stream",
     "text": [
      "Model 1 Accuracy=0.969\n",
      "Model 2 Accuracy=0.968\n",
      "Model 3 Accuracy=0.968\n"
     ]
    }
   ],
   "source": [
    "classifier1 = svm.SVC(gamma=0.001)\n",
    "classifier2 = svm.SVC(gamma=0.0011)\n",
    "classifier3 = svm.SVC(gamma=0.0012)\n",
    "\n",
    "training, training_labels = data[:n_samples // 2], digits.target[:n_samples // 2]\n",
    "testing, testing_labels = data[n_samples // 2:], digits.target[n_samples // 2:]\n",
    "\n",
    "classifier1.fit(training, training_labels)\n",
    "classifier2.fit(training, training_labels)\n",
    "classifier3.fit(training, training_labels)\n",
    "\n",
    "predicted1 = classifier1.predict(testing)\n",
    "predicted2 = classifier2.predict(testing)\n",
    "predicted3 = classifier3.predict(testing)\n",
    "\n",
    "acc = metrics.accuracy_score(expected, predicted1)\n",
    "print(f'Model 1 Accuracy={acc:.3f}')\n",
    "\n",
    "acc = metrics.accuracy_score(expected, predicted2)\n",
    "print(f'Model 2 Accuracy={acc:.3f}')\n",
    "\n",
    "acc = metrics.accuracy_score(expected, predicted3)\n",
    "print(f'Model 3 Accuracy={acc:.3f}')"
   ]
  },
  {
   "cell_type": "code",
   "execution_count": 17,
   "metadata": {},
   "outputs": [
    {
     "data": {
      "image/png": "[encoded data removed]",
      "text/plain": [
       "<Figure size 1440x720 with 2 Axes>"
      ]
     },
     "metadata": {
      "needs_background": "light"
     },
     "output_type": "display_data"
    }
   ],
   "source": [
    "plt.figure(1, figsize=(20, 10))\n",
    "for index, (image, label) in enumerate(images_and_labels[100:102]):\n",
    "    plt.subplot(4, 10, index+1)\n",
    "    plt.axis('off')\n",
    "    plt.imshow(image, cmap=plt.cm.gray_r, interpolation='nearest')\n",
    "    plt.title(f'Training: {label}')"
   ]
  },
  {
   "cell_type": "code",
   "execution_count": 35,
   "metadata": {},
   "outputs": [
    {
     "data": {
      "text/plain": [
       "0.9756606397774688"
      ]
     },
     "execution_count": 35,
     "metadata": {},
     "output_type": "execute_result"
    }
   ],
   "source": [
    "from sklearn.neural_network import MLPClassifier\n",
    "from sklearn.datasets import make_classification\n",
    "from sklearn.model_selection import train_test_split\n",
    "\n",
    "# Frac of 5 is a standard 80 train 20 test split\n",
    "frac = 5\n",
    "low = n_samples // frac\n",
    "high = n_samples - low\n",
    "\n",
    "#x_train, y_train = data[:n_samples // 2], digits.target[:n_samples // 2]\n",
    "#x_test, y_test = data[n_samples // 2:], digits.target[n_samples // 2:]\n",
    "\n",
    "x_train, y_train = data[ : high ], digits.target[ : high ]\n",
    "x_test, y_test = data[ low : ], digits.target[ low : ]\n",
    "\n",
    "clf = MLPClassifier( learning_rate_init=0.001, random_state=1 , max_iter=300 ).fit(x_train, y_train)\n",
    "clf.score(x_test, y_test)"
   ]
  },
  {
   "cell_type": "code",
   "execution_count": null,
   "metadata": {},
   "outputs": [],
   "source": []
  }
 ],
 "metadata": {
  "kernelspec": {
   "display_name": "Python 3",
   "language": "python",
   "name": "python3"
  },
  "language_info": {
   "codemirror_mode": {
    "name": "ipython",
    "version": 3
   },
   "file_extension": ".py",
   "mimetype": "text/x-python",
   "name": "python",
   "nbconvert_exporter": "python",
   "pygments_lexer": "ipython3",
   "version": "3.7.4"
  }
 },
 "nbformat": 4,
 "nbformat_minor": 2
}
