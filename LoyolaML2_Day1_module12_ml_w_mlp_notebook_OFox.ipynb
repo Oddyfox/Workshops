{
 "cells": [
  {
   "cell_type": "code",
   "execution_count": 1,
   "metadata": {},
   "outputs": [
    {
     "data": {
      "image/png": "[encoded data removed]",
      "text/plain": [
       "<Figure size 864x216 with 3 Axes>"
      ]
     },
     "metadata": {
      "needs_background": "light"
     },
     "output_type": "display_data"
    }
   ],
   "source": [
    "%matplotlib inline\n",
    "import matplotlib.pyplot as plt\n",
    "import numpy as np\n",
    "from numpy.random import ranf\n",
    "from sklearn import svm\n",
    "\n",
    "# Example random XOR dataset\n",
    "X = np.concatenate([np.array([-1.5,-1.5]) + ranf((10,2)), np.array([0.5, 0.5]) + ranf((10,2)),\n",
    "                    np.array([-1.5, 0.5]) + ranf((10,2)), np.array([0.5,-1.5]) + ranf((10,2))], axis=0)\n",
    "y = np.concatenate([np.full(10, 0), np.full(10, 0), np.full(10, 1), np.full(10, 1)], axis=0)\n",
    "\n",
    "X_mn, X_mx = -2, 2\n",
    "\n",
    "fig, ax = plt.subplots(nrows=1, ncols=3, sharex=False, sharey=True, figsize=(12, 3))\n",
    "\n",
    "# Plot the data points\n",
    "def plotX(_ax, X, y, _title):\n",
    "    _ax.scatter(X[y==0,0], X[y==0,1], marker='o', color='darkorchid', s=50)\n",
    "    _ax.scatter(X[y==1,0], X[y==1,1], marker='+', color='darkgreen', s=90)\n",
    "    _ax.set_xlim(X_mn, X_mx)\n",
    "    _ax.set_ylim(X_mn, X_mx)\n",
    "    _ax.set_title(_title)\n",
    "\n",
    "# Plot the decision boundary of a classifier using mesh and contour, 2-dims\n",
    "def plot_decisionboundary(_ax, _h, _X, _clf, color='r'):  # h = step size in the mesh\n",
    "    xx1, xx2 = np.meshgrid(np.arange(X_mn, X_mx, _h), np.arange(X_mn, X_mx, _h))\n",
    "    Y = _clf.predict(np.c_[xx1.ravel(), xx2.ravel()]).reshape(xx1.shape)\n",
    "    _ax.contour(xx1, xx2, Y, colors=color, linestyles='dashed')\n",
    "\n",
    "def svc_linear(_X, _y, _ax, C=10, color='r'):\n",
    "    clf = svm.SVC(kernel='linear', C=C, tol=1e-2).fit(_X, _y)\n",
    "    # dividing hyperplane\n",
    "    a = -clf.coef_[0][0] / clf.coef_[0][1]\n",
    "    x1_plot = np.linspace(X_mn, X_mx)\n",
    "    x2_plot = a*x1_plot - clf.intercept_[0]/clf.coef_[0][1]\n",
    "    _ax.plot(x1_plot, x2_plot, linestyle='--', color=color, linewidth=2, label=f'C={C:g}')\n",
    "\n",
    "def svc_rbf(_X, _y, _ax, _gamma, C=10, color='r'):\n",
    "    clf = svm.SVC(kernel='rbf', gamma=_gamma, C=C).fit(_X, _y)\n",
    "    plot_decisionboundary(_ax, 0.01, _X, clf, color)\n",
    "\n",
    "plotX(ax[0], X, y, 'Input random XOR data')\n",
    "\n",
    "plotX(ax[1], X, y, 'Dividing hyperplanes (SVM)')\n",
    "svc_linear(X, y, ax[1], C=1e-3, color='k')\n",
    "svc_linear(X, y, ax[1], C=1, color='magenta')\n",
    "svc_linear(X, y, ax[1], C=1e3, color='cyan')\n",
    "ax[1].legend(fontsize='small')\n",
    "\n",
    "plotX(ax[2], X, y, 'SVM RBF')\n",
    "svc_rbf(X, y, ax[2], 0.5)\n",
    "\n",
    "plt.show()"
   ]
  },
  {
   "cell_type": "code",
   "execution_count": 2,
   "metadata": {},
   "outputs": [
    {
     "name": "stdout",
     "output_type": "stream",
     "text": [
      "Rows= 60000, columns= 784\n",
      "Rows= 10000, columns= 784\n"
     ]
    }
   ],
   "source": [
    "def load_mnist(path, kind='train'):\n",
    "    from numpy import fromfile, uint8\n",
    "    import os\n",
    "    import struct\n",
    "    \n",
    "    labels_path = os.path.join(path, '%s-labels-idx1-ubyte' % kind)\n",
    "    images_path = os.path.join(path, '%s-images-idx3-ubyte' % kind)\n",
    "    with open(labels_path, 'rb') as lbpath:\n",
    "        magic, n = struct.unpack('>II', lbpath.read(8))\n",
    "        labels = fromfile(lbpath, dtype=uint8)\n",
    "        with open(images_path, 'rb') as imgpath:\n",
    "            magic, num, rows, cols = struct.unpack(\">IIII\",imgpath.read(16))\n",
    "            images = fromfile(imgpath, dtype=uint8).reshape(len(labels), 784)\n",
    "            images = ((images / 255.) - .5) * 2\n",
    "    return images, labels\n",
    "\n",
    "X_train, y_train = load_mnist('mnist/', kind='train')\n",
    "print(f'Rows= {X_train.shape[0]}, columns= {X_train.shape[1]}')\n",
    "\n",
    "X_test, y_test = load_mnist('mnist/', kind='t10k')\n",
    "print(f'Rows= {X_test.shape[0]}, columns= {X_test.shape[1]}')"
   ]
  },
  {
   "cell_type": "code",
   "execution_count": null,
   "metadata": {},
   "outputs": [],
   "source": [
    "fig, ax = plt.subplots(nrows=2, ncols=5, sharex=True, sharey=True)\n",
    "ax = ax.flatten()\n",
    "for i in range(10):\n",
    "    img = X_train[y_train == i][0].reshape(28, 28)\n",
    "    ax[i].imshow(img, cmap='Greys')\n",
    "    ax[0].set_xticks([])\n",
    "    ax[0].set_yticks([])\n",
    "    plt.tight_layout()\n",
    "plt.show()"
   ]
  },
  {
   "cell_type": "code",
   "execution_count": null,
   "metadata": {},
   "outputs": [],
   "source": [
    "fig, ax = plt.subplots(nrows=5, ncols=5, sharex=True, sharey=True)\n",
    "ax = ax.flatten()\n",
    "for i in range(25):\n",
    "    img = X_train[y_train == 3][i].reshape(28, 28)\n",
    "    ax[i].imshow(img, cmap='Greys')\n",
    "    ax[0].set_xticks([])\n",
    "    ax[0].set_yticks([])\n",
    "    plt.tight_layout()\n",
    "plt.show()"
   ]
  },
  {
   "cell_type": "code",
   "execution_count": null,
   "metadata": {},
   "outputs": [],
   "source": [
    "from sklearn.neural_network import MLPClassifier\n",
    "from sklearn.metrics import confusion_matrix\n",
    "\n",
    "import warnings\n",
    "warnings.filterwarnings('ignore', 'Solver terminated early.*')\n",
    "\n",
    "def get_acc(_y_test, _y_pred):\n",
    "    return ((np.sum(_y_test == _y_pred)).astype(float) / _y_test.shape[0])"
   ]
  },
  {
   "cell_type": "code",
   "execution_count": null,
   "metadata": {},
   "outputs": [],
   "source": [
    "%%time\n",
    "\n",
    "# 1 layer neural network\n",
    "mlp = MLPClassifier(hidden_layer_sizes=(10,), max_iter=300, activation='logistic')\n",
    "mlp.fit(X_train,y_train)\n",
    "\n",
    "y_pred = mlp.predict(X_test)\n",
    "\n",
    "print(f'Accuracy= {get_acc(y_test,y_pred)*100:.2f}%')\n",
    "print(confusion_matrix(y_test,y_pred))"
   ]
  },
  {
   "cell_type": "code",
   "execution_count": null,
   "metadata": {},
   "outputs": [],
   "source": [
    "%%time\n",
    "\n",
    "# 2 layer neural network\n",
    "mlp = MLPClassifier(hidden_layer_sizes=(10,10),max_iter=300)\n",
    "mlp.fit(X_train,y_train)\n",
    "\n",
    "y_pred = mlp.predict(X_test)\n",
    "\n",
    "print(f'Accuracy= {get_acc(y_test,y_pred)*100:.2f}%')\n",
    "print(confusion_matrix(y_test,y_pred))"
   ]
  },
  {
   "cell_type": "code",
   "execution_count": 5,
   "metadata": {},
   "outputs": [],
   "source": [
    "class NeuralNetMLP(object):\n",
    "\n",
    "    def __init__(self, n_hidden=30, epochs=100, eta=0.001, minibatch_size=1, seed=None):\n",
    "        self.random = np.random.RandomState(seed)  # used to randomize weights\n",
    "        self.n_hidden = n_hidden  # size of the hidden layer\n",
    "        self.epochs = epochs  # number of iterations\n",
    "        self.eta = eta  # learning rate\n",
    "        self.minibatch_size = minibatch_size  # size of training batch - 1 would not work\n",
    "    \n",
    "    @staticmethod\n",
    "    def onehot(y, n_classes):  # one hot encode the input class y\n",
    "        onehot = np.zeros((n_classes, y.shape[0]))\n",
    "        for idx, val in enumerate(y.astype(int)):\n",
    "            onehot[val, idx] = 1.0\n",
    "        return onehot.T\n",
    "    \n",
    "    @staticmethod\n",
    "    def sigmoid(z):  # Eq 1\n",
    "        return 1.0 / (1.0 + np.exp(-np.clip(z, -250, 250)))\n",
    "\n",
    "    def _forward(self, X):  # Eq 2\n",
    "        z_h = np.dot(X, self.w_h)\n",
    "        a_h = self.sigmoid(z_h)\n",
    "        z_out = np.dot(a_h, self.w_out)\n",
    "        a_out = self.sigmoid(z_out)\n",
    "        return z_h, a_h, z_out, a_out\n",
    "\n",
    "    @staticmethod\n",
    "    def compute_cost(y_enc, output):  # Eq 4\n",
    "        term1 = -y_enc * (np.log(output))\n",
    "        term2 = (1.0-y_enc) * np.log(1.0-output)\n",
    "        cost = np.sum(term1 - term2)\n",
    "        return cost\n",
    "\n",
    "    def predict(self, X):\n",
    "        z_h, a_h, z_out, a_out = self._forward(X)\n",
    "        y_pred = np.argmax(z_out, axis=1)\n",
    "        return y_pred\n",
    "\n",
    "    def fit(self, X_train, y_train, X_valid, y_valid):\n",
    "        import sys\n",
    "        n_output = np.unique(y_train).shape[0]  # number of class labels\n",
    "        n_features = X_train.shape[1]\n",
    "        self.w_out = self.random.normal(loc=0.0, scale=0.1, size=(self.n_hidden, n_output))\n",
    "        self.w_h = self.random.normal(loc=0.0, scale=0.1, size=(n_features, self.n_hidden))\n",
    "        y_train_enc = self.onehot(y_train, n_output)  # one-hot encode original y\n",
    "        for i in range(self.epochs):\n",
    "            indices = np.arange(X_train.shape[0])\n",
    "            for start_idx in range(0, indices.shape[0] - self.minibatch_size + 1, self.minibatch_size):\n",
    "                batch_idx = indices[start_idx:start_idx + self.minibatch_size]\n",
    "                z_h, a_h, z_out, a_out = self._forward(X_train[batch_idx])\n",
    "                sigmoid_derivative_h = a_h * (1.0-a_h)  # Eq 3\n",
    "                delta_out = a_out - y_train_enc[batch_idx]  # Eq 5\n",
    "                delta_h = (np.dot(delta_out, self.w_out.T) * sigmoid_derivative_h)  # Eq 6\n",
    "                grad_w_out = np.dot(a_h.T, delta_out)  # Eq 7\n",
    "                grad_w_h = np.dot(X_train[batch_idx].T, delta_h)  # Eq 8\n",
    "                \n",
    "                #Error handling\n",
    "                #print( len( self.w_out ), self.eta, len( grad_w_out ) )\n",
    "                \n",
    "                self.w_out -= self.eta*grad_w_out  # Eq 9\n",
    "                self.w_h -= self.eta*grad_w_h  # Eq 9\n",
    "            # Evaluation after each epoch during training\n",
    "            z_h, a_h, z_out, a_out = self._forward(X_train)\n",
    "            cost = self.compute_cost(y_enc=y_train_enc, output=a_out)\n",
    "            y_train_pred = self.predict(X_train)  # monitoring training progress through reclassification\n",
    "            y_valid_pred = self.predict(X_valid)  # monitoring training progress through validation\n",
    "            train_acc = ((np.sum(y_train == y_train_pred)).astype(float) / X_train.shape[0])\n",
    "            valid_acc = ((np.sum(y_valid == y_valid_pred)).astype(float) / X_valid.shape[0])\n",
    "            sys.stderr.write('\\r%d/%d | Cost: %.2f ' '| Train/Valid Acc.: %.2f%%/%.2f%% '%\n",
    "                (i+1, self.epochs, cost, train_acc*100, valid_acc*100))\n",
    "            sys.stderr.flush()\n",
    "        return self"
   ]
  },
  {
   "cell_type": "code",
   "execution_count": null,
   "metadata": {},
   "outputs": [],
   "source": []
  },
  {
   "cell_type": "code",
   "execution_count": 6,
   "metadata": {},
   "outputs": [
    {
     "name": "stderr",
     "output_type": "stream",
     "text": [
      "10/10 | Cost: 35508.14 | Train/Valid Acc.: 91.16%/93.08% "
     ]
    }
   ],
   "source": [
    "# Define and fit the neural network\n",
    "nn = NeuralNetMLP(n_hidden=20, epochs=10, eta=0.0005, minibatch_size=100, seed=1)\n",
    "\n",
    "nn.fit(X_train=X_train[:55000], y_train=y_train[:55000], X_valid=X_train[55000:], y_valid=y_train[55000:]) ;"
   ]
  },
  {
   "cell_type": "code",
   "execution_count": null,
   "metadata": {},
   "outputs": [],
   "source": []
  }
 ],
 "metadata": {
  "kernelspec": {
   "display_name": "Python 3",
   "language": "python",
   "name": "python3"
  },
  "language_info": {
   "codemirror_mode": {
    "name": "ipython",
    "version": 3
   },
   "file_extension": ".py",
   "mimetype": "text/x-python",
   "name": "python",
   "nbconvert_exporter": "python",
   "pygments_lexer": "ipython3",
   "version": "3.7.4"
  }
 },
 "nbformat": 4,
 "nbformat_minor": 2
}
