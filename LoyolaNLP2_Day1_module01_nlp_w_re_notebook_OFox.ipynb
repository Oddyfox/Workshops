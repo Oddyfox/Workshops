{
 "cells": [
  {
   "cell_type": "code",
   "execution_count": 32,
   "metadata": {},
   "outputs": [],
   "source": [
    "def findfun(_pat, _n, _lenm):\n",
    "    import csv\n",
    "    import re\n",
    "    ix = 0\n",
    "    with open('movie_data.csv','r', encoding = 'utf8') as f:\n",
    "        reader = csv.reader(f, delimiter=',', quotechar='\"')\n",
    "        next(reader)  # skip header\n",
    "        while _n > 0:\n",
    "            line = next(reader)  # tuple of 2 elements\n",
    "            ix += 1\n",
    "            m = re.findall(_pat, line[0])  # first element is the review string, second element is the category 0,1\n",
    "            m = m[:min(len(m), _lenm)]\n",
    "            if len(m) > 0:\n",
    "                _n -= 1\n",
    "                print(f\"{ix:03d} {m}\")"
   ]
  },
  {
   "cell_type": "code",
   "execution_count": 3,
   "metadata": {},
   "outputs": [
    {
     "name": "stdout",
     "output_type": "stream",
     "text": [
      "001 ['Martha', 'Moxley', 'Maggie', 'Belle', 'On', 'Mischief', 'Mark', 'Fuhrman', 'Christopher', 'Simpson']\n",
      "002 ['Kris', 'Kristofferson', 'Age', 'Disappearance', 'Holy', 'None', 'Kris', 'This', 'Grade', 'Believe']\n",
      "003 ['Do', 'By', 'The', 'If', 'Coyote', 'The', 'American', 'The', 'New', 'The']\n",
      "005 ['Chorus', 'Every', 'Attenborough', 'By', 'Cassie', 'Some', 'The', 'The', 'The']\n",
      "006 ['Braik', 'Finally', 'Zorak', 'Spac', 'Ghost', 'Coast', 'To', 'They', 'Adult', 'Brak']\n",
      "007 ['Detroit', 'Frank', 'New', 'Confident', 'Sky', 'Masterson', 'Marlon', 'Sarah', 'Brown', 'Jean']\n",
      "008 ['Crash', 'Most', 'The', 'They', 'Shows', 'Hail', 'This', 'Crash', 'Star', 'Family']\n",
      "009 ['Amsterdam', 'This', 'Venezuela', 'This', 'Venezuela', 'Halliburton', 'Bush']\n",
      "010 ['Renny', 'Harlin', 'Stallone', 'Gabe', 'Cat', 'Mouse', 'Renny', 'Harlin', 'Stallone', 'Snowy']\n",
      "011 ['It']\n"
     ]
    }
   ],
   "source": []
  },
  {
   "cell_type": "markdown",
   "metadata": {},
   "source": [
    "## Exercise 1\n",
    "Find URLs in a given text."
   ]
  },
  {
   "cell_type": "code",
   "execution_count": 33,
   "metadata": {
    "scrolled": false
   },
   "outputs": [
    {
     "name": "stdout",
     "output_type": "stream",
     "text": [
      "235 ['. But I HATED this one. Who dare they kill off UG? This was certainly not the Ug who had been almost like a brother to Charlie in number 2. Remember his speech? Charlie said, \"You wouldn\\'t just leave me on Earth, would you\". Ug replied, \"Charlie, Bounty Hunter\", saying that he was now one of them now. How dare the writers ignore this special bond between them and turn him into a baddie who get\\'s killed by Charlie (in a particularly awkward scene) just because they realized the movie was getting boring. In fact for the first 20 minutes, we get a new cast and have to wait this long until we again find out what happened to Charlie, who was the hero we\\'ve been waiting to see. I kept waiting saying, \"Come on, when\\'s Charlie going to appear?\" Angela Basset must be doing her best to deny she was ever in this Turkey. Moving it to the future eliminates the possibility of ever seeing a sequel with the original cast or in our time. I think the writers decided, that their movie was going to be the last and they could do whatever they wanted. This movie is totally out of line with the first two. And it didn\\'t even seem like it was written by the same people who made 3. 3 at least had humor and could easily be seen by younger Children. 4 is just ugly and mean-spirited (Eric DaRe) is particularly cruel and unnecessary. I hated this movie. Hated, hated, hated it. I hated the fact that anyone could like it and I hated the fact that it ruined what was one of my favorite camp classics. I give this a one start simply because IMDb.com']\n",
      "350 [\".D. Hinton as Buzz and starring Playmate of the year Dorothy Stratton. The picture starts with the police infinity roaming space looking for I guess criminals. There ship is suddenly attacked by an unknown space ship. Enters Sergeant Thor and his partner Buzz as they try to figure out who the unknown ship belongs to. When failing they call on Captain Comelius who instructs his crew to fight back. Enters the gorgeous Dorothy Stratton, who plays the role of Galaxina who is man made robot. An now a few thoughts on this picture. This movie was plan stupid and it's one of the reasons that I don't get into Sci-Fi. If you're into Sci-Fi you would have notice that the laser sound effects were borrowed from an early Sci-fi movie titled Battlestar Galactica which aired in theaters in 1978. Many of the door sounds that you hear in this movie came from another Sci-Fi movie that aired back in 1966 titled Star Trek. Now for the reason that I bought this movie, Dorothy Stratton. She is gorgeous in her one piece suit. I think her talents were wasted in this picture and she should have never been involved in such garbage. Connie Sellecca was also considered for the role and her talents would have been wasted also. On the picture alone I give this movie 1 weasel star and on Dorothy Stratton I give her 10 weasel stars even though she didn't deserve to be put into a trash movie like this. If you like pictures like this you can get the DVD version on Amazon.com\"]\n",
      "577 [\". However, in so doing, Lee commits a far more heinous crime: he exaggerates Asian-Americans' own stereotypes of themselves to the point of incredulity. The result? Dreadfully one-dimensional characters and an outrageously shallow script triggers the cast into a frenzy of over-acting, ultimately resulting in a film that is physically painful to watch.<br /><br />Don't be deceived by any of the positive reviews garnered by `Yellow'; each falls into one of two camps. In one corner (e.g., right here on imdb.com\"]\n",
      "611 ['. Lee, according the IMDb.com']\n",
      "807 [\". We're talking nonstop laughs. It makes SOMETHING ABOUT MARY seem like a meandering drama. Amanda Peet screams star quality with her winning combination of beauty, brains, and serious acting ability. Peter Cohen, the director, has made a cutting edge film that shows the raw inside of men's egos in the urban dating world. For all of it's comedy, Whipped succeeds with it's intelligence. Which is so rare for a first time director, especially with a romantic comedy. He is a major talent. Judah Domke, Brian Van Holt, Jonathan Abrahams, and Zorie Barber round out the cast with depth and very strong performances as the would be slick lady's men. You've got to see these guys go to work and get caught in Peet's web. Check out the trailer on whipped.com\"]\n",
      "958 [\".<br /><br />While the characters seem and look young (hence the controversy), the actor/actress themselves were 17 and 18 at the time and so obviously over the 16 barrier. Here in the USA, that's still somewhat controversial but the simplicity and innocence of the film does much to offset it.<br /><br />I'm sorry not to have seen more by Sean; in this movie at least his expressions are demonstrative and obvious; you know exactly what the character is feeling whether he's angry, afraid, or confused. Anicee had a healthy career, who's life was cut unfortunately short by cancer in late 2006. She was a beautiful and talented actress.<br /><br />VHS tapes of FRIENDS can be found at Amazon.com\"]\n",
      "1082 ['. Firstly, it is a sequel to Fulci\\'s hit Zombi 2, with Zombi 2 itself being of course a marketing ploy to trick people into thinking it was a sequel to George A. Romero\\'s Dawn of the Dead aka Zombi. Confusing enough? Basically, none of the films have anything to do with one another, but who cares when they make money. I guess Fulci himself starting to not care about the production about half way through Zombi 3 when he decided to walk out. Bruno Mattei was brought on board to help pad the film with additional scenes to lengthen the running time.<br /><br />Zombi 3\\'s plot is your typical zombie fare. Scientists develop a serum on an island in the Philippines, terrorists steal it unleashing a plague, and zombie run amok. The scientists want to create an antidote, while the military is set on mowing down everyone without prejudice. There are also brief inserts of a Radio DJ preaching about how we treat the planet. <br /><br />Overall, I actually liked this film. I heard horrible things, but I find the goofy dialogue quite enjoyable. The film seems to be an attempt at raising awareness about pollution, corrupted military, Man playing God, etc. I get the feeling this was at one point a serious film, but it veered off in a weird direction, presumably when Mattei came on board.<br /><br />Besides ripping off other zombie flicks, this was very reminiscent of Romero\\'s The Crazies. You hear the Radio DJ breaking the good news with, \"When you see the men in white suits & gas masks, Run to them for Help.\" This is of course played to the images of the men in white gunning down zombies. Later, they straight up steal a scene from Crazies in which one of the regular, uncontaminated people is killed by mistake.<br /><br />The gore factor is pretty good in this one with zombie hordes around every corner. How is it cool? Let me count the ways\\x851. Zombie Birth 2. Flying Zombie Head 3. Zombie Birds. 4. Zombie with no legs swimming in a pool. My favorite zombie was the machete-wielding maniac at the gas station. He was bad ass and nearly tore down the entire building trying to kill a girl.<br /><br />Favorite Quote \\x96 When a sergeant insists on cremating a zombie, the scientists asks, \"Don\\'t you think that once the ash is in the air, it will fall to the ground, and contaminate everything?\" To which the Sargeant boldly replies, \"Now you\\'re talking science fiction.\" He also continues to mention the \"Science Fiction\" told by the scientists even at the end when everyone dies.<br /><br />Extras: Gallery, Trailers, and Interviews, most notably the one with Mattei where he insists he directed 40% of the scenes, yet cannot recall which ones or any other significant details.<br /><br />Bottom Line: A must see for zombie and Fulci fans.<br /><br />Rating: 7/10<br /><br />Molly Celaschi www.HorrorYearbook.com']\n",
      "1469 [\".<br /><br />Unremittingly bleak, this film sets out to produce (I'm guessing) a modern small town American Christmas fable in the Capra style. If fails....com\"]\n",
      "1576 ['. I always say that if a film is good and can keep you attention throughout the hardest of moments (example: a Tylenol Cold & Sinus war) than it is a film that has done its job. The fact that I was asleep for most of this film only proves the fact that it could not keep my attention, and ergo, it did not complete its job. Why did I fall victim to the Tylenol Cold & Sinus, when I had a film in my arsenal? <br /><br />To begin, Committed did not make any sense. The acting was poor and the overall story left more doors opened that just couldn\\'t be closed. I am thinking of the moment when I swear I saw Affleck and Graham (brother and sister in this film) kissing. That didn\\'t make any sense. Then there was a scene with Affleck and his roommates indicating that he was sleeping with one of them, almost breaking up a perfect lesbian couple. I suppose this was to show that most are not as committed to a relationship as Graham is, but for me it just was nothing more than filler. I have this suspicious feeling that the director of this film was sleeping with Affleck. His acting in this film was atrocious. I mean, I have never seen him do any \"good\" acting, but this was by far the worst. Oh, I just had another moment during the battle come through my mind and I confirmed it with IMDb.com']\n",
      "1947 [\". Well, anything that isn't I'm a Cyborg at least. Park's newest film titled Thirst is a vampire romance-erotic-thriller-dark comedy-drama \\x96 yes, that is a lot of adjectives \\x97 inspired by the 19th century French novel by Emile Zola titled Therese Raquin. Park creates a uniquely Korean, and uniquely Park, vision of the vampire mythos and asks the audience to explore the dilemma of a Catholic priest discovering himself having a thirst for blood and the moral and spiritual crisis that would develop. Park delivers on the elements you would hope but definitely falls short of masterpiece quality like Oldboy or even that of Lady Vengeance. Heavily bloated with a narrative that often loses itself much less the audience, Thirst desperately needed another trip through the cutting room. It crawls when it should be running but luckily brings it back home before losing the audience completely. As negative as it may sound the positives definitely outweigh the negatives and another volume has without a doubt been added to the dark and twisted Zeitgeist of Park Chan-wook film.<br /><br />Check out the rest of our review at www.thefilmstage.com\"]\n"
     ]
    }
   ],
   "source": [
    "ex1 = r\"\\..+?\\.[c][o][m]\"\n",
    "\n",
    "findfun( ex1, 10, 10 )"
   ]
  },
  {
   "cell_type": "markdown",
   "metadata": {},
   "source": [
    "# Exercise 2\n",
    "Why do 'The' show up in pattern 5?"
   ]
  },
  {
   "cell_type": "code",
   "execution_count": 23,
   "metadata": {},
   "outputs": [
    {
     "name": "stdout",
     "output_type": "stream",
     "text": [
      "001 ['Martha', 'Moxley', 'Maggie', 'Belle', 'On', 'Mischief', 'Mark', 'Fuhrman', 'Christopher', 'Simpson']\n",
      "002 ['Kris', 'Kristofferson', 'Age', 'Disappearance', 'Holy', 'None', 'Kris', 'This', 'Grade', 'Believe']\n",
      "003 ['Do', 'By', 'The', 'If', 'Coyote', 'The', 'American', 'The', 'New', 'The']\n",
      "005 ['Chorus', 'Every', 'Attenborough', 'By', 'Cassie', 'Some', 'The', 'The', 'The']\n",
      "006 ['Braik', 'Finally', 'Zorak', 'Spac', 'Ghost', 'Coast', 'To', 'They', 'Adult', 'Brak']\n",
      "007 ['Detroit', 'Frank', 'New', 'Confident', 'Sky', 'Masterson', 'Marlon', 'Sarah', 'Brown', 'Jean']\n",
      "008 ['Crash', 'Most', 'The', 'They', 'Shows', 'Hail', 'This', 'Crash', 'Star', 'Family']\n",
      "009 ['Amsterdam', 'This', 'Venezuela', 'This', 'Venezuela', 'Halliburton', 'Bush']\n",
      "010 ['Renny', 'Harlin', 'Stallone', 'Gabe', 'Cat', 'Mouse', 'Renny', 'Harlin', 'Stallone', 'Snowy']\n",
      "011 ['It']\n"
     ]
    }
   ],
   "source": [
    "Pat5 = r\"[^\\.]([A-Z]+[a-z]+)(?=\\s|$)\"\n",
    "\n",
    "findfun(Pat5, 10, 10)"
   ]
  },
  {
   "cell_type": "markdown",
   "metadata": {},
   "source": [
    "[^\\\\.] means starts with not a period\n",
    "\n",
    "([A-Z]+[a-z]+) means one or more capital letter followed by one or more lowercase letter\n",
    "\n",
    "(?=\\s|$) means a positive lookahead for a space or end of string\n",
    "\n",
    "So, 'The' can show up with this regex is it the first word in a title, like 'The Matrix'"
   ]
  },
  {
   "cell_type": "code",
   "execution_count": null,
   "metadata": {},
   "outputs": [],
   "source": []
  }
 ],
 "metadata": {
  "kernelspec": {
   "display_name": "Python 3",
   "language": "python",
   "name": "python3"
  },
  "language_info": {
   "codemirror_mode": {
    "name": "ipython",
    "version": 3
   },
   "file_extension": ".py",
   "mimetype": "text/x-python",
   "name": "python",
   "nbconvert_exporter": "python",
   "pygments_lexer": "ipython3",
   "version": "3.7.4"
  }
 },
 "nbformat": 4,
 "nbformat_minor": 2
}
